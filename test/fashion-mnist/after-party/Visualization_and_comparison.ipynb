{
 "cells": [
  {
   "cell_type": "markdown",
   "metadata": {
    "colab_type": "text",
    "id": "sBtsSk9fy9bK"
   },
   "source": [
    "### Now that we have finished our federated training, we need to visualize validation results after each run and compare the performances of federated learning and centralized learning. "
   ]
  },
  {
   "cell_type": "markdown",
   "metadata": {
    "colab_type": "text",
    "id": "eM7rSGMNzbIp"
   },
   "source": [
    "Following steps are followed: \n",
    "1. prepare data for centralized model; \n",
    "2. train centralized model; \n",
    "3. plot performance of both models. "
   ]
  },
  {
   "cell_type": "markdown",
   "metadata": {
    "colab_type": "text",
    "id": "bjAJJ4Pe0n3G"
   },
   "source": [
    "####Import dependencies"
   ]
  },
  {
   "cell_type": "code",
   "execution_count": 1,
   "metadata": {
    "colab": {},
    "colab_type": "code",
    "id": "k9TW1VFR0l2g"
   },
   "outputs": [],
   "source": [
    "import warnings\n",
    "warnings.simplefilter(action='ignore')\n",
    "import keras\n",
    "from keras.models import Sequential\n",
    "import pandas as pd\n",
    "from keras.utils import to_categorical\n",
    "from keras.layers import Conv2D, Dropout, MaxPooling2D, Dense, Flatten\n",
    "import numpy\n",
    "import random\n",
    "import matplotlib.pyplot as plt"
   ]
  },
  {
   "cell_type": "markdown",
   "metadata": {
    "colab_type": "text",
    "id": "zFY_gNdD0Hlo"
   },
   "source": [
    "####Data preparation"
   ]
  },
  {
   "cell_type": "code",
   "execution_count": 2,
   "metadata": {
    "colab": {},
    "colab_type": "code",
    "id": "i5K7UwAwzUwV"
   },
   "outputs": [],
   "source": [
    "def read_data(filename):\n",
    "    data = numpy.array(pd.read_csv(filename))\n",
    "    train = data[0:int(0.8 * data.shape[0]), :]\n",
    "    test = data[int(0.8 * data.shape[0]):data.shape[0], :]\n",
    "\n",
    "    trainx = train[:, 1::]\n",
    "    trainy = train[:, 0]\n",
    "\n",
    "    testx = test[:, 1::]\n",
    "    testy = test[:, 0]\n",
    "\n",
    "    def normalize(X):\n",
    "        X = X.reshape((X.shape[0], 28, 28, 1))\n",
    "        X = X.astype('float32')\n",
    "        X /= 255\n",
    "        return X\n",
    "\n",
    "    trainx = normalize(trainx)\n",
    "    testx = normalize(testx)\n",
    "    trainy = to_categorical(trainy)\n",
    "    testy = to_categorical(testy)\n",
    "    return (trainx, trainy), (testx, testy)"
   ]
  },
  {
   "cell_type": "markdown",
   "metadata": {
    "colab_type": "text",
    "id": "ecCCo1qH2eGx"
   },
   "source": [
    "####Model defining"
   ]
  },
  {
   "cell_type": "code",
   "execution_count": 3,
   "metadata": {
    "colab": {},
    "colab_type": "code",
    "id": "sji1ntAw2h1V"
   },
   "outputs": [],
   "source": [
    "def define_model():\n",
    "    img_rows, img_cols = 28, 28\n",
    "    input_shape = (img_rows, img_cols, 1)\n",
    "    num_classes = 10\n",
    "\n",
    "    model = Sequential()\n",
    "    model.add(Conv2D(32, kernel_size=(3, 3),\n",
    "                     activation='relu',\n",
    "                     input_shape=input_shape))\n",
    "\n",
    "    model.add(Conv2D(64, (3, 3), activation='relu'))\n",
    "    model.add(MaxPooling2D(pool_size=(2, 2)))\n",
    "    model.add(Dropout(0.25))\n",
    "    model.add(Flatten())\n",
    "    model.add(Dense(128, activation='relu'))\n",
    "    model.add(Dropout(0.5))\n",
    "    model.add(Dense(num_classes, activation='softmax'))\n",
    "\n",
    "    model.compile(loss=keras.losses.categorical_crossentropy,\n",
    "                  optimizer=keras.optimizers.Adam(),\n",
    "                  metrics=['accuracy'])\n",
    "    return model"
   ]
  },
  {
   "cell_type": "markdown",
   "metadata": {
    "colab_type": "text",
    "id": "BC8Rm-Nr2l7a"
   },
   "source": [
    "####Function for training"
   ]
  },
  {
   "cell_type": "code",
   "execution_count": 4,
   "metadata": {
    "colab": {},
    "colab_type": "code",
    "id": "1q67Ee463K7q"
   },
   "outputs": [],
   "source": [
    "def centralized_learn(model, trainX, trainY, testX, testY):\n",
    "    bs = 32\n",
    "    model.fit(trainX, trainY, epochs=1, batch_size=bs, verbose=0)\n",
    "    _, accuracy = model.evaluate(testX, testY, verbose=0)\n",
    "    return accuracy"
   ]
  },
  {
   "cell_type": "markdown",
   "metadata": {
    "colab_type": "text",
    "id": "Dy4plx383X5b"
   },
   "source": [
    "####Function to run centralized training"
   ]
  },
  {
   "cell_type": "code",
   "execution_count": 5,
   "metadata": {
    "colab": {},
    "colab_type": "code",
    "id": "mCVgUQW73enw",
    "pycharm": {
     "name": "#%%\n"
    }
   },
   "outputs": [],
   "source": [
    "def run(num_run):\n",
    "    (trainx, trainy), (testx, testy) = read_data(\"../data/all_data.csv\")\n",
    "    model = define_model()\n",
    "    history = list()\n",
    "    train_fraction = 0.1\n",
    "    for i in range(num_run):\n",
    "        samples = random.sample(range(trainy.shape[0]), int(train_fraction * trainy.shape[0]))\n",
    "        part_trainx = trainx[samples,]\n",
    "        part_trainy = trainy[samples]\n",
    "        history.append(centralized_learn(model, part_trainx,\n",
    "                                         part_trainy, testx, testy))\n",
    "        ##print(history[i])\n",
    "    return numpy.array(history)"
   ]
  },
  {
   "cell_type": "markdown",
   "metadata": {},
   "source": [
    "####Function to load result of federated learning"
   ]
  },
  {
   "cell_type": "code",
   "execution_count": 6,
   "metadata": {
    "pycharm": {
     "name": "#%%\n"
    }
   },
   "outputs": [],
   "source": [
    "def read_fed_rslt():\n",
    "    data = numpy.array(pd.read_csv(\"../data/val_result/validate.txt\", header = None))\n",
    "    data = data.reshape(int(data.shape[0]/5), 5)\n",
    "    return data.mean(axis = 1)"
   ]
  },
  {
   "cell_type": "markdown",
   "metadata": {},
   "source": [
    "####Function to plot federated and centralized learning results\n",
    "To save the figure, comment ``plt.show()`` and uncomment ``plot.savefig()``"
   ]
  },
  {
   "cell_type": "code",
   "execution_count": 7,
   "metadata": {
    "pycharm": {
     "name": "#%%\n"
    }
   },
   "outputs": [],
   "source": [
    "def plot(cent_data, fed_data):\n",
    "    plt.plot(100 * cent_data, label=\"Centralized\")\n",
    "    plt.plot(100 * fed_data, label=\"Federated\")\n",
    "    plt.xlabel('Num of runs')\n",
    "    plt.ylabel('Accuracy/%')\n",
    "    plt.title('Fashion-mnist: accuracy ~ num of runs')\n",
    "    plt.legend(loc=4)\n",
    "    ##plt.ylim(20, 100)\n",
    "    plt.show()\n",
    "    ##plt.savefig('plot.png')"
   ]
  },
  {
   "cell_type": "markdown",
   "metadata": {},
   "source": [
    "####To get comparison figure"
   ]
  },
  {
   "cell_type": "code",
   "execution_count": 8,
   "metadata": {
    "pycharm": {
     "name": "#%%\n"
    }
   },
   "outputs": [
    {
     "name": "stdout",
     "output_type": "stream",
     "text": [
      "0\n",
      "1\n",
      "2\n",
      "3\n",
      "4\n"
     ]
    },
    {
     "data": {
      "text/plain": "<Figure size 432x288 with 1 Axes>",
      "image/png": "[encoded data removed]"
     },
     "metadata": {
      "needs_background": "light"
     },
     "output_type": "display_data"
    }
   ],
   "source": [
    "fed_result = read_fed_rslt()\n",
    "cent_result = run(fed_result.shape[0])\n",
    "plot(cent_result, fed_result)"
   ]
  },
  {
   "cell_type": "markdown",
   "metadata": {},
   "source": []
  },
  {
   "cell_type": "code",
   "execution_count": 8,
   "metadata": {},
   "outputs": [],
   "source": []
  },
  {
   "cell_type": "code",
   "execution_count": 8,
   "metadata": {},
   "outputs": [],
   "source": []
  }
 ],
 "metadata": {
  "colab": {
   "name": "Visualization_and_comparison.ipynb",
   "provenance": []
  },
  "kernelspec": {
   "display_name": "Python 3",
   "language": "python",
   "name": "python3"
  },
  "language_info": {
   "codemirror_mode": {
    "name": "ipython",
    "version": 3
   },
   "file_extension": ".py",
   "mimetype": "text/x-python",
   "name": "python",
   "nbconvert_exporter": "python",
   "pygments_lexer": "ipython3",
   "version": "3.6.9"
  }
 },
 "nbformat": 4,
 "nbformat_minor": 1
}