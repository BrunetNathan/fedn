{
 "cells": [
  {
   "cell_type": "markdown",
   "metadata": {
    "colab_type": "text",
    "id": "sBtsSk9fy9bK"
   },
   "source": [
    "### Now that we have finished our federated training, we need to visualize validation results after each run and compare the performances of federated learning and centralized learning. "
   ]
  },
  {
   "cell_type": "markdown",
   "metadata": {
    "colab_type": "text",
    "id": "eM7rSGMNzbIp"
   },
   "source": [
    "Following steps are followed: \n",
    "1. prepare data for centralized model; \n",
    "2. train centralized model; \n",
    "3. plot performance of both models. "
   ]
  },
  {
   "cell_type": "markdown",
   "metadata": {
    "colab_type": "text",
    "id": "bjAJJ4Pe0n3G"
   },
   "source": [
    "####Import dependencies"
   ]
  },
  {
   "cell_type": "code",
   "execution_count": 9,
   "metadata": {
    "colab": {},
    "colab_type": "code",
    "id": "k9TW1VFR0l2g",
    "pycharm": {
     "is_executing": true
    }
   },
   "outputs": [],
   "source": [
    "import warnings\n",
    "warnings.simplefilter(action='ignore')\n",
    "import keras\n",
    "from keras.models import Sequential\n",
    "import pandas as pd\n",
    "from keras.layers import Dropout, Dense, Activation\n",
    "from keras.layers.recurrent import LSTM\n",
    "import numpy\n",
    "import random\n",
    "import matplotlib.pyplot as plt"
   ]
  },
  {
   "cell_type": "markdown",
   "metadata": {
    "colab_type": "text",
    "id": "zFY_gNdD0Hlo"
   },
   "source": [
    "####Data preparation"
   ]
  },
  {
   "cell_type": "code",
   "execution_count": 10,
   "metadata": {
    "colab": {},
    "colab_type": "code",
    "id": "i5K7UwAwzUwV",
    "pycharm": {
     "is_executing": true
    }
   },
   "outputs": [],
   "source": [
    "def read_data(filename):\n",
    "    data = numpy.array(pd.read_csv(filename))\n",
    "    train = data[0:int(0.8 * data.shape[0]), :]\n",
    "    test = data[int(0.8 * data.shape[0]):data.shape[0], :]\n",
    "\n",
    "    trainx = train[:, :-1]\n",
    "    trainy = train[:, -1]\n",
    "\n",
    "    testx = test[:, :-1]\n",
    "    testy = test[:, -1]\n",
    "\n",
    "    def normalize(X):\n",
    "        X = X.reshape((X.shape[0], X.shape[1], 1))\n",
    "        X = X.astype('float32')\n",
    "        X /= 255\n",
    "        return X\n",
    "\n",
    "    trainx = normalize(trainx)\n",
    "    testx = normalize(testx)\n",
    "\n",
    "    return (trainx, trainy), (testx, testy)"
   ]
  },
  {
   "cell_type": "markdown",
   "metadata": {
    "colab_type": "text",
    "id": "ecCCo1qH2eGx"
   },
   "source": [
    "####Model defining"
   ]
  },
  {
   "cell_type": "code",
   "execution_count": 11,
   "metadata": {
    "colab": {},
    "colab_type": "code",
    "id": "sji1ntAw2h1V",
    "pycharm": {
     "is_executing": true
    }
   },
   "outputs": [],
   "source": [
    "def define_model():\n",
    "\tmodel = Sequential()\n",
    "\tlayers = [1, 50, 100, 1]\n",
    "\tmodel.add(LSTM(\n",
    "\t\tlayers[1],\n",
    "\t\tinput_shape=(None, 1),\n",
    "\t\treturn_sequences=True))\n",
    "\tmodel.add(Dropout(0.2))\n",
    "\tmodel.add(LSTM(\n",
    "\t\tlayers[2],\n",
    "\t\treturn_sequences=False))\n",
    "\tmodel.add(Dropout(0.2))\n",
    "\tmodel.add(Dense(\n",
    "\t\tlayers[3]))\n",
    "\tmodel.add(Activation(\"linear\"))\n",
    "\tmodel.compile(loss=\"mse\", optimizer=keras.optimizers.Adam(), metrics=['mae'])\n",
    "\treturn model"
   ]
  },
  {
   "cell_type": "markdown",
   "metadata": {
    "colab_type": "text",
    "id": "BC8Rm-Nr2l7a"
   },
   "source": [
    "####Function for training"
   ]
  },
  {
   "cell_type": "code",
   "execution_count": 12,
   "metadata": {
    "colab": {},
    "colab_type": "code",
    "id": "1q67Ee463K7q",
    "pycharm": {
     "is_executing": true
    }
   },
   "outputs": [],
   "source": [
    "def centralized_learn(model, trainX, trainY, testX, testY):\n",
    "    bs = 32\n",
    "    model.fit(trainX, trainY, epochs=1, batch_size=bs, verbose=0)\n",
    "    _, mae = model.evaluate(testX, testY, verbose=0)\n",
    "    return mae"
   ]
  },
  {
   "cell_type": "markdown",
   "metadata": {
    "colab_type": "text",
    "id": "Dy4plx383X5b"
   },
   "source": [
    "####Function to run centralized training"
   ]
  },
  {
   "cell_type": "code",
   "execution_count": 13,
   "metadata": {
    "colab": {},
    "colab_type": "code",
    "id": "mCVgUQW73enw",
    "pycharm": {
     "is_executing": true,
     "name": "#%%\n"
    }
   },
   "outputs": [],
   "source": [
    "def run(num_run):\n",
    "    (trainx, trainy), (testx, testy) = read_data(\"../data/all_data.csv\")\n",
    "    model = define_model()\n",
    "    history = list()\n",
    "    train_fraction = 0.1\n",
    "    for i in range(num_run):\n",
    "        print(i)\n",
    "        samples = random.sample(range(trainy.shape[0]), int(train_fraction * trainy.shape[0]))\n",
    "        part_trainx = trainx[samples,]\n",
    "        part_trainy = trainy[samples]\n",
    "        history.append(centralized_learn(model, part_trainx,\n",
    "                                         part_trainy, testx, testy))\n",
    "        ##print(history[i])\n",
    "    return numpy.array(history)"
   ]
  },
  {
   "cell_type": "markdown",
   "metadata": {},
   "source": [
    "####Function to load result of federated learning"
   ]
  },
  {
   "cell_type": "code",
   "execution_count": 14,
   "metadata": {
    "pycharm": {
     "is_executing": true,
     "name": "#%%\n"
    }
   },
   "outputs": [],
   "source": [
    "def read_fed_rslt():\n",
    "    data = numpy.array(pd.read_csv(\"../data/val_result/validate.txt\", header = None))\n",
    "    data = data.reshape(int(data.shape[0]/5), 5)\n",
    "    return data.mean(axis = 1)"
   ]
  },
  {
   "cell_type": "markdown",
   "metadata": {},
   "source": [
    "####Function to plot federated and centralized learning results\n",
    "To save the figure, comment ``plt.show()`` and uncomment ``plot.savefig()``"
   ]
  },
  {
   "cell_type": "code",
   "execution_count": 15,
   "metadata": {
    "pycharm": {
     "is_executing": true,
     "name": "#%%\n"
    }
   },
   "outputs": [],
   "source": [
    "def plot(cent_data, fed_data):\n",
    "    plt.plot(cent_data, label=\"Centralized\")\n",
    "    plt.plot(fed_data, label=\"Federated\")\n",
    "    plt.xlabel('Num of runs')\n",
    "    plt.ylabel('MAE/celsius')\n",
    "    plt.title('Minimum temperature in Melbourne: MAE ~ num of runs')\n",
    "    plt.legend(loc=1)\n",
    "    ##plt.ylim(20, 100)\n",
    "    plt.show()\n",
    "    ##plt.savefig('plot.png')"
   ]
  },
  {
   "cell_type": "markdown",
   "metadata": {},
   "source": [
    "####To get comparison figure"
   ]
  },
  {
   "cell_type": "code",
   "execution_count": 16,
   "metadata": {
    "pycharm": {
     "is_executing": true,
     "name": "#%%\n"
    }
   },
   "outputs": [
    {
     "name": "stdout",
     "output_type": "stream",
     "text": [
      "0\n",
      "1\n",
      "2\n",
      "3\n",
      "4\n",
      "5\n",
      "6\n",
      "7\n",
      "8\n",
      "9\n",
      "10\n",
      "11\n",
      "12\n",
      "13\n",
      "14\n",
      "15\n",
      "16\n",
      "17\n",
      "18\n",
      "19\n",
      "20\n",
      "21\n",
      "22\n",
      "23\n",
      "24\n",
      "25\n",
      "26\n",
      "27\n",
      "28\n",
      "29\n",
      "30\n",
      "31\n",
      "32\n",
      "33\n",
      "34\n",
      "35\n",
      "36\n",
      "37\n",
      "38\n",
      "39\n",
      "40\n",
      "41\n",
      "42\n",
      "43\n",
      "44\n",
      "45\n",
      "46\n",
      "47\n",
      "48\n",
      "49\n",
      "50\n",
      "51\n",
      "52\n",
      "53\n",
      "54\n",
      "55\n",
      "56\n",
      "57\n",
      "58\n",
      "59\n",
      "60\n",
      "61\n",
      "62\n",
      "63\n",
      "64\n",
      "65\n"
     ]
    },
    {
     "data": {
      "image/png": "[encoded data removed]",
      "text/plain": [
       "<Figure size 432x288 with 1 Axes>"
      ]
     },
     "metadata": {
      "needs_background": "light"
     },
     "output_type": "display_data"
    }
   ],
   "source": [
    "fed_result = read_fed_rslt()\n",
    "cent_result = run(fed_result.shape[0])\n",
    "plot(cent_result, fed_result)"
   ]
  },
  {
   "cell_type": "markdown",
   "metadata": {},
   "source": []
  },
  {
   "cell_type": "code",
   "execution_count": null,
   "metadata": {
    "pycharm": {
     "is_executing": true
    }
   },
   "outputs": [],
   "source": []
  },
  {
   "cell_type": "code",
   "execution_count": null,
   "metadata": {
    "pycharm": {
     "is_executing": true
    }
   },
   "outputs": [],
   "source": []
  }
 ],
 "metadata": {
  "colab": {
   "name": "Visualization_and_comparison.ipynb",
   "provenance": []
  },
  "kernelspec": {
   "display_name": "Python 3",
   "language": "python",
   "name": "python3"
  },
  "language_info": {
   "codemirror_mode": {
    "name": "ipython",
    "version": 3
   },
   "file_extension": ".py",
   "mimetype": "text/x-python",
   "name": "python",
   "nbconvert_exporter": "python",
   "pygments_lexer": "ipython3",
   "version": "3.6.9"
  }
 },
 "nbformat": 4,
 "nbformat_minor": 1
}